{
 "cells": [
  {
   "cell_type": "markdown",
   "metadata": {},
   "source": [
    "# ActBlue donor profile"
   ]
  },
  {
   "cell_type": "code",
   "execution_count": 7,
   "metadata": {},
   "outputs": [],
   "source": [
    "import json\n",
    "import numpy as np\n",
    "import pandas as pd\n",
    "import psycopg2\n",
    "import matplotlib.pyplot as plt\n",
    "import matplotlib.dates as mdates\n",
    "import matplotlib.ticker as ticker\n",
    "import os"
   ]
  },
  {
   "cell_type": "code",
   "execution_count": 8,
   "metadata": {},
   "outputs": [],
   "source": [
    "%matplotlib inline\n",
    "\n",
    "plt.style.use('ggplot')\n",
    "\n",
    "pd.options.display.float_format = '{:,.2f}'.format"
   ]
  },
  {
   "cell_type": "code",
   "execution_count": 9,
   "metadata": {},
   "outputs": [],
   "source": [
    "def read_or_save(name, func):\n",
    "    path = 'pickles/' + name + '.pickle.gz'\n",
    "    if (os.path.isfile(path)):\n",
    "        return pd.read_pickle(path)\n",
    "    else:\n",
    "        result = func()\n",
    "        os.makedirs('pickles', exist_ok=True)\n",
    "        result.to_pickle(path)\n",
    "        return result"
   ]
  },
  {
   "cell_type": "code",
   "execution_count": 10,
   "metadata": {},
   "outputs": [],
   "source": [
    "committee_id = \"C00401224\"\n",
    "year_since = 2013"
   ]
  },
  {
   "cell_type": "markdown",
   "metadata": {},
   "source": [
    "### Connect to the PostgreSQL database"
   ]
  },
  {
   "cell_type": "code",
   "execution_count": 11,
   "metadata": {},
   "outputs": [],
   "source": [
    "with open(\"config.json\") as f:\n",
    "    conf = json.load(f)\n",
    "conn = psycopg2.connect(\n",
    "    dbname=conf['dbname'],\n",
    "    user=conf['user'],\n",
    "    host=conf['host'],\n",
    "    password=conf['password']\n",
    ")"
   ]
  },
  {
   "cell_type": "markdown",
   "metadata": {},
   "source": [
    "### Where do the donors giving through ActBlue come from geographically? Any striking or interesting patterns, or zip codes that typically don’t contribute?"
   ]
  },
  {
   "cell_type": "code",
   "execution_count": null,
   "metadata": {},
   "outputs": [],
   "source": [
    "actblue_states = read_or_save(\n",
    "    'actblue_states',\n",
    "    lambda: pd.read_sql(\"\"\"\n",
    "    SELECT contributor_state,\n",
    "           count(*),\n",
    "           sum(contribution_amount)\n",
    "    FROM fec_contributions\n",
    "    WHERE filing_id IN\n",
    "        (SELECT filing_id\n",
    "         FROM fec_pac_summaries\n",
    "         JOIN fec_amended_filings USING (filing_id)\n",
    "         WHERE filer_committee_id_number = '\"\"\" + committee_id + \"\"\"'\n",
    "           AND extract(YEAR\n",
    "                       FROM coverage_through_date) > \"\"\" + str(year_since) + \"\"\"\n",
    "         ORDER BY coverage_through_date DESC)\n",
    "      AND form_type = 'SA11AI'\n",
    "    GROUP BY contributor_state\n",
    "    \"\"\", con=conn)\n",
    ")\n",
    "actblue_states.sort_values(by=['sum'], ascending=False)"
   ]
  },
  {
   "cell_type": "code",
   "execution_count": null,
   "metadata": {},
   "outputs": [],
   "source": [
    "clinton_votes = pd.read_csv('clintonvotes.csv')\n",
    "\n",
    "clinton_votes\n",
    "\n",
    "votes_vs_contribs = actblue_states.merge(clinton_votes, left_on='contributor_state', right_on='postal', how='inner')\n",
    "\n",
    "votes_vs_contribs['dollars_per'] = votes_vs_contribs['sum']/votes_vs_contribs['votes']\n",
    "\n",
    "votes_vs_contribs.sort_values(by=['dollars_per'], ascending=False)"
   ]
  },
  {
   "cell_type": "code",
   "execution_count": null,
   "metadata": {},
   "outputs": [],
   "source": [
    "votes_vs_contribs['contribs_per'] = votes_vs_contribs['count']/votes_vs_contribs['votes']\n",
    "\n",
    "votes_vs_contribs.sort_values(by=['contribs_per'], ascending=False)"
   ]
  },
  {
   "cell_type": "markdown",
   "metadata": {},
   "source": [
    "### Questions to answer\n",
    "> - Where do the donors giving through ActBlue come from geographically? Any striking or interesting patterns, or zip codes that typically don’t contribute?\n",
    "> - Where is the money going? Are people giving to local candidates or are they giving to candidates around the country? Which campaigns/candidates/groups have done the best job tapping into this network?\n",
    "> - What’s the gender breakdown and how does it compare to the gender breakdown of itemized contributions? Is it different?\n",
    "> - Are these new donors?\n",
    "> - Can we tell if these are recurring contributions or one time contributions?\n",
    "> - Do the majority of these donors give repeatedly or are they one and done? How does that compare to itemized contributions? How “sticky” is this?\n"
   ]
  },
  {
   "cell_type": "code",
   "execution_count": null,
   "metadata": {},
   "outputs": [],
   "source": [
    "actblue_in_state = read_or_save(\n",
    "    'actblue_in_state',\n",
    "    lambda: pd.read_sql(\"\"\"\n",
    "    SELECT CASE\n",
    "               WHEN beneficiary_candidate_state = contributor_state THEN TRUE\n",
    "               ELSE FALSE\n",
    "           END AS in_state,\n",
    "           sum(contribution_amount),\n",
    "           count(*)\n",
    "    FROM fec_contributions\n",
    "    JOIN fec_expenditures ON fec_contributions.filing_id IN\n",
    "      (SELECT filing_id\n",
    "       FROM fec_pac_summaries\n",
    "       JOIN fec_amended_filings USING (filing_id)\n",
    "       WHERE filer_committee_id_number = '\"\"\" + committee_id + \"\"\"'\n",
    "         AND extract(YEAR\n",
    "                     FROM coverage_through_date) > 2016\n",
    "       ORDER BY coverage_through_date DESC)\n",
    "    AND fec_expenditures.filing_id = fec_contributions.filing_id\n",
    "    AND fec_contributions.form_type = 'SA11AI'\n",
    "    AND fec_expenditures.form_type = 'SB23'\n",
    "    AND replace(transaction_id_number,'SB23_','') = replace(transaction_id,'SA11AI_','')\n",
    "    AND beneficiary_candidate_state IS NOT NULL\n",
    "    GROUP BY in_state\n",
    "    \"\"\", con=conn)\n",
    ")\n",
    "actblue_in_state"
   ]
  },
  {
   "cell_type": "code",
   "execution_count": null,
   "metadata": {},
   "outputs": [],
   "source": [
    "actblue_freq = read_or_save(\n",
    "    'actblue_freq',\n",
    "    lambda: pd.read_sql(\"\"\"\n",
    "    SELECT COUNT,\n",
    "           count(*) AS count_of_count\n",
    "    FROM\n",
    "      (SELECT contributor_first_name,\n",
    "              contributor_last_name,\n",
    "              left(contributor_zip_code,5),\n",
    "              count(*) AS COUNT\n",
    "       FROM fec_contributions\n",
    "       WHERE filing_id IN\n",
    "           (SELECT filing_id\n",
    "            FROM fec_pac_summaries\n",
    "            JOIN fec_amended_filings USING (filing_id)\n",
    "            WHERE filer_committee_id_number = '\"\"\" + committee_id + \"\"\"'\n",
    "              AND extract(YEAR\n",
    "                          FROM coverage_through_date) > 2016\n",
    "            ORDER BY coverage_through_date DESC)\n",
    "         AND form_type = 'SA11AI'\n",
    "       GROUP BY contributor_first_name,\n",
    "                contributor_last_name,\n",
    "                left(contributor_zip_code,5)) AS donors\n",
    "    GROUP BY COUNT\n",
    "    \"\"\", con=conn)\n",
    ")\n",
    "actblue_freq"
   ]
  },
  {
   "cell_type": "code",
   "execution_count": null,
   "metadata": {},
   "outputs": [],
   "source": [
    "actblue_addicts = read_or_save(\n",
    "    'actblue_addicts',\n",
    "    lambda: pd.read_sql(\"\"\"\n",
    "    SELECT COUNT,\n",
    "           count(*) AS count_of_count,\n",
    "           array_agg(DISTINCT contributor_organization_name),\n",
    "           array_agg(DISTINCT contributor_first_name),\n",
    "           array_agg(DISTINCT contributor_last_name),\n",
    "           array_agg(DISTINCT contributor_zip_code)\n",
    "    FROM\n",
    "      (SELECT contributor_organization_name,\n",
    "              contributor_first_name,\n",
    "              contributor_last_name,\n",
    "              left(contributor_zip_code,5) as contributor_zip_code,\n",
    "              count(*) AS COUNT\n",
    "       FROM fec_contributions\n",
    "       WHERE filing_id IN\n",
    "           (SELECT filing_id\n",
    "            FROM fec_pac_summaries\n",
    "            JOIN fec_amended_filings USING (filing_id)\n",
    "            WHERE filer_committee_id_number = '\"\"\" + committee_id + \"\"\"'\n",
    "              AND extract(YEAR\n",
    "                          FROM coverage_through_date) > 2016\n",
    "            ORDER BY coverage_through_date DESC)\n",
    "         AND form_type = 'SA11AI'\n",
    "       GROUP BY contributor_organization_name,\n",
    "                contributor_first_name,\n",
    "                contributor_last_name,\n",
    "                left(contributor_zip_code,5)) AS donors\n",
    "    GROUP BY COUNT\n",
    "    HAVING count(*) <= 3\n",
    "    ORDER BY COUNT DESC\n",
    "    LIMIT 30\n",
    "    \"\"\", con=conn)\n",
    ")\n",
    "actblue_addicts\n",
    "\n"
   ]
  }
 ],
 "metadata": {
  "kernelspec": {
   "display_name": "Python 3",
   "language": "python",
   "name": "python3"
  },
  "language_info": {
   "codemirror_mode": {
    "name": "ipython",
    "version": 3
   },
   "file_extension": ".py",
   "mimetype": "text/x-python",
   "name": "python",
   "nbconvert_exporter": "python",
   "pygments_lexer": "ipython3",
   "version": "3.6.5"
  }
 },
 "nbformat": 4,
 "nbformat_minor": 2
}
