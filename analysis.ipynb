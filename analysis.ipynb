{
 "cells": [
  {
   "cell_type": "markdown",
   "metadata": {},
   "source": [
    "# ActBlue analysis"
   ]
  },
  {
   "cell_type": "code",
   "execution_count": 1,
   "metadata": {},
   "outputs": [
    {
     "name": "stderr",
     "output_type": "stream",
     "text": [
      "/Users/chriszs/.local/share/virtualenvs/actblue-analysis-AfcA3U3w/lib/python3.6/site-packages/psycopg2/__init__.py:144: UserWarning: The psycopg2 wheel package will be renamed from release 2.8; in order to keep installing from binary please use \"pip install psycopg2-binary\" instead. For details see: <http://initd.org/psycopg/docs/install.html#binary-install-from-pypi>.\n",
      "  \"\"\")\n"
     ]
    }
   ],
   "source": [
    "import json\n",
    "import math\n",
    "import matplotlib.dates as mdates\n",
    "import matplotlib.pyplot as plt\n",
    "import matplotlib.ticker as ticker\n",
    "import numpy as np\n",
    "import os\n",
    "import pandas as pd\n",
    "import psycopg2\n",
    "import requests\n",
    "import gender_guesser.detector as gender"
   ]
  },
  {
   "cell_type": "code",
   "execution_count": 2,
   "metadata": {},
   "outputs": [],
   "source": [
    "%matplotlib inline\n",
    "\n",
    "plt.style.use('ggplot')\n",
    "\n",
    "pd.options.display.float_format = '{:,.2f}'.format"
   ]
  },
  {
   "cell_type": "code",
   "execution_count": 3,
   "metadata": {},
   "outputs": [],
   "source": [
    "def read_or_save(name, func):\n",
    "    path = 'pickles/' + name + '.pickle.gz'\n",
    "    if (os.path.isfile(path)):\n",
    "        return pd.read_pickle(path)\n",
    "    else:\n",
    "        result = func()\n",
    "        os.makedirs('pickles', exist_ok=True)\n",
    "        result.to_pickle(path)\n",
    "        return result"
   ]
  },
  {
   "cell_type": "code",
   "execution_count": 4,
   "metadata": {},
   "outputs": [],
   "source": [
    "committee_id = \"C00401224\"\n",
    "year_since = 2013"
   ]
  },
  {
   "cell_type": "code",
   "execution_count": 5,
   "metadata": {},
   "outputs": [],
   "source": [
    "with open(\"config.json\") as f:\n",
    "    conf = json.load(f)\n",
    "conn = psycopg2.connect(\n",
    "    dbname=conf['dbname'],\n",
    "    user=conf['user'],\n",
    "    host=conf['host'],\n",
    "    password=conf['password']\n",
    ")\n",
    "conn.autocommit = True"
   ]
  },
  {
   "cell_type": "markdown",
   "metadata": {},
   "source": [
    "### How many reports are in the database?\n",
    "Jan. 1, 2013 — now"
   ]
  },
  {
   "cell_type": "code",
   "execution_count": 6,
   "metadata": {},
   "outputs": [
    {
     "data": {
      "text/html": [
       "<div>\n",
       "<style scoped>\n",
       "    .dataframe tbody tr th:only-of-type {\n",
       "        vertical-align: middle;\n",
       "    }\n",
       "\n",
       "    .dataframe tbody tr th {\n",
       "        vertical-align: top;\n",
       "    }\n",
       "\n",
       "    .dataframe thead th {\n",
       "        text-align: right;\n",
       "    }\n",
       "</style>\n",
       "<table border=\"1\" class=\"dataframe\">\n",
       "  <thead>\n",
       "    <tr style=\"text-align: right;\">\n",
       "      <th></th>\n",
       "      <th>count</th>\n",
       "    </tr>\n",
       "  </thead>\n",
       "  <tbody>\n",
       "    <tr>\n",
       "      <th>0</th>\n",
       "      <td>431230</td>\n",
       "    </tr>\n",
       "  </tbody>\n",
       "</table>\n",
       "</div>"
      ],
      "text/plain": [
       "    count\n",
       "0  431230"
      ]
     },
     "execution_count": 6,
     "metadata": {},
     "output_type": "execute_result"
    }
   ],
   "source": [
    "filings_count = read_or_save(\n",
    "    'filings_count',\n",
    "    lambda: pd.read_sql(\"\"\"\n",
    "    SELECT count(*)\n",
    "    FROM\n",
    "      (SELECT filing_id\n",
    "       FROM fec_filings\n",
    "       UNION SELECT filing_id\n",
    "       FROM fec_paper_filings) AS filings;\n",
    "    \"\"\", con=conn)\n",
    ")\n",
    "filings_count"
   ]
  },
  {
   "cell_type": "markdown",
   "metadata": {},
   "source": [
    "### Are there other committees itemizing a large number of transfers?\n",
    "Jan. 1, 2017 — now"
   ]
  },
  {
   "cell_type": "code",
   "execution_count": 7,
   "metadata": {},
   "outputs": [
    {
     "data": {
      "text/html": [
       "<div>\n",
       "<style scoped>\n",
       "    .dataframe tbody tr th:only-of-type {\n",
       "        vertical-align: middle;\n",
       "    }\n",
       "\n",
       "    .dataframe tbody tr th {\n",
       "        vertical-align: top;\n",
       "    }\n",
       "\n",
       "    .dataframe thead th {\n",
       "        text-align: right;\n",
       "    }\n",
       "</style>\n",
       "<table border=\"1\" class=\"dataframe\">\n",
       "  <thead>\n",
       "    <tr style=\"text-align: right;\">\n",
       "      <th></th>\n",
       "      <th>filer_committee_id_number</th>\n",
       "      <th>name</th>\n",
       "      <th>count</th>\n",
       "      <th>sum</th>\n",
       "    </tr>\n",
       "  </thead>\n",
       "  <tbody>\n",
       "    <tr>\n",
       "      <th>0</th>\n",
       "      <td>C00401224</td>\n",
       "      <td>ACTBLUE</td>\n",
       "      <td>30462320</td>\n",
       "      <td>919,575,587.04</td>\n",
       "    </tr>\n",
       "    <tr>\n",
       "      <th>1</th>\n",
       "      <td>C00632133</td>\n",
       "      <td>SWING LEFT</td>\n",
       "      <td>1675478</td>\n",
       "      <td>4,815,571.82</td>\n",
       "    </tr>\n",
       "    <tr>\n",
       "      <th>2</th>\n",
       "      <td>C00193433</td>\n",
       "      <td>EMILY'S LIST</td>\n",
       "      <td>118998</td>\n",
       "      <td>10,114,018.79</td>\n",
       "    </tr>\n",
       "    <tr>\n",
       "      <th>3</th>\n",
       "      <td>C00341396</td>\n",
       "      <td>MOVEON.ORG POLITICAL ACTION</td>\n",
       "      <td>76279</td>\n",
       "      <td>2,771,545.04</td>\n",
       "    </tr>\n",
       "    <tr>\n",
       "      <th>4</th>\n",
       "      <td>C00448696</td>\n",
       "      <td>SENATE CONSERVATIVES FUND</td>\n",
       "      <td>62895</td>\n",
       "      <td>6,828,088.98</td>\n",
       "    </tr>\n",
       "    <tr>\n",
       "      <th>5</th>\n",
       "      <td>C00552851</td>\n",
       "      <td>HOUSE FREEDOM FUND</td>\n",
       "      <td>23366</td>\n",
       "      <td>5,315,812.00</td>\n",
       "    </tr>\n",
       "    <tr>\n",
       "      <th>6</th>\n",
       "      <td>C00468314</td>\n",
       "      <td>DEMOCRACY ENGINE, INC., PAC</td>\n",
       "      <td>20138</td>\n",
       "      <td>5,347,428.25</td>\n",
       "    </tr>\n",
       "    <tr>\n",
       "      <th>7</th>\n",
       "      <td>C00252940</td>\n",
       "      <td>LEAGUE OF CONSERVATION VOTERS ACTION FUND</td>\n",
       "      <td>16429</td>\n",
       "      <td>3,175,549.50</td>\n",
       "    </tr>\n",
       "    <tr>\n",
       "      <th>8</th>\n",
       "      <td>C00432260</td>\n",
       "      <td>CLUB FOR GROWTH PAC</td>\n",
       "      <td>16056</td>\n",
       "      <td>4,449,005.99</td>\n",
       "    </tr>\n",
       "    <tr>\n",
       "      <th>9</th>\n",
       "      <td>C00608489</td>\n",
       "      <td>GREAT AMERICA PAC</td>\n",
       "      <td>11818</td>\n",
       "      <td>135,157.26</td>\n",
       "    </tr>\n",
       "  </tbody>\n",
       "</table>\n",
       "</div>"
      ],
      "text/plain": [
       "  filer_committee_id_number                                       name  \\\n",
       "0                 C00401224                                    ACTBLUE   \n",
       "1                 C00632133                                 SWING LEFT   \n",
       "2                 C00193433                               EMILY'S LIST   \n",
       "3                 C00341396                MOVEON.ORG POLITICAL ACTION   \n",
       "4                 C00448696                  SENATE CONSERVATIVES FUND   \n",
       "5                 C00552851                         HOUSE FREEDOM FUND   \n",
       "6                 C00468314                DEMOCRACY ENGINE, INC., PAC   \n",
       "7                 C00252940  LEAGUE OF CONSERVATION VOTERS ACTION FUND   \n",
       "8                 C00432260                        CLUB FOR GROWTH PAC   \n",
       "9                 C00608489                          GREAT AMERICA PAC   \n",
       "\n",
       "      count            sum  \n",
       "0  30462320 919,575,587.04  \n",
       "1   1675478   4,815,571.82  \n",
       "2    118998  10,114,018.79  \n",
       "3     76279   2,771,545.04  \n",
       "4     62895   6,828,088.98  \n",
       "5     23366   5,315,812.00  \n",
       "6     20138   5,347,428.25  \n",
       "7     16429   3,175,549.50  \n",
       "8     16056   4,449,005.99  \n",
       "9     11818     135,157.26  "
      ]
     },
     "execution_count": 7,
     "metadata": {},
     "output_type": "execute_result"
    }
   ],
   "source": [
    "transfer_committees = read_or_save(\n",
    "    'transfer_committees',\n",
    "    lambda: pd.read_sql(\"\"\"\n",
    "    SELECT filer_committee_id_number,\n",
    "           fec_committees.name,\n",
    "           count,\n",
    "           sum\n",
    "    FROM\n",
    "        (SELECT filer_committee_id_number,\n",
    "               count(*) AS count,\n",
    "               sum(expenditure_amount) as sum\n",
    "        FROM fec_expenditures\n",
    "        JOIN fec_amended_filings using (filing_id)\n",
    "        WHERE \n",
    "        -- filer_committee_id_number != '\"\"\" + committee_id + \"\"\"' AND \n",
    "         extract(YEAR\n",
    "                      FROM expenditure_date) >= 2017\n",
    "          -- AND beneficiary_committee_fec_id IS NOT NULL\n",
    "          AND form_type = 'SB23'\n",
    "        GROUP BY filer_committee_id_number\n",
    "        ORDER BY COUNT DESC\n",
    "        LIMIT 10) as counts\n",
    "    LEFT JOIN fec_committees\n",
    "    ON fec_committees.id = filer_committee_id_number\n",
    "    \"\"\", con=conn)\n",
    ")\n",
    "\n",
    "transfer_committees"
   ]
  },
  {
   "cell_type": "markdown",
   "metadata": {},
   "source": [
    "### How much was raised from unitemized contributions versus itemized for the 2018 and 2014 cycles by congressional candidates of each party?"
   ]
  },
  {
   "cell_type": "markdown",
   "metadata": {},
   "source": [
    "#### 2014\n",
    "Jan. 1, 2013 — September 30, 2014"
   ]
  },
  {
   "cell_type": "code",
   "execution_count": 8,
   "metadata": {},
   "outputs": [
    {
     "data": {
      "text/html": [
       "<div>\n",
       "<style scoped>\n",
       "    .dataframe tbody tr th:only-of-type {\n",
       "        vertical-align: middle;\n",
       "    }\n",
       "\n",
       "    .dataframe tbody tr th {\n",
       "        vertical-align: top;\n",
       "    }\n",
       "\n",
       "    .dataframe thead th {\n",
       "        text-align: right;\n",
       "    }\n",
       "</style>\n",
       "<table border=\"1\" class=\"dataframe\">\n",
       "  <thead>\n",
       "    <tr style=\"text-align: right;\">\n",
       "      <th></th>\n",
       "      <th>party</th>\n",
       "      <th>candidates</th>\n",
       "      <th>itemized</th>\n",
       "      <th>unitemized</th>\n",
       "      <th>indivs</th>\n",
       "    </tr>\n",
       "  </thead>\n",
       "  <tbody>\n",
       "    <tr>\n",
       "      <th>0</th>\n",
       "      <td>Republican</td>\n",
       "      <td>879</td>\n",
       "      <td>386,281,126.61</td>\n",
       "      <td>68,550,509.73</td>\n",
       "      <td>454,992,766.26</td>\n",
       "    </tr>\n",
       "    <tr>\n",
       "      <th>1</th>\n",
       "      <td>Democrat</td>\n",
       "      <td>669</td>\n",
       "      <td>340,445,390.26</td>\n",
       "      <td>81,131,227.89</td>\n",
       "      <td>421,581,550.15</td>\n",
       "    </tr>\n",
       "    <tr>\n",
       "      <th>2</th>\n",
       "      <td>third party</td>\n",
       "      <td>102</td>\n",
       "      <td>3,029,102.42</td>\n",
       "      <td>845,118.46</td>\n",
       "      <td>3,878,881.96</td>\n",
       "    </tr>\n",
       "  </tbody>\n",
       "</table>\n",
       "</div>"
      ],
      "text/plain": [
       "         party  candidates       itemized    unitemized         indivs\n",
       "0   Republican         879 386,281,126.61 68,550,509.73 454,992,766.26\n",
       "1     Democrat         669 340,445,390.26 81,131,227.89 421,581,550.15\n",
       "2  third party         102   3,029,102.42    845,118.46   3,878,881.96"
      ]
     },
     "execution_count": 8,
     "metadata": {},
     "output_type": "execute_result"
    }
   ],
   "source": [
    "def calc_candidate_unitemized_by_party(cycle):\n",
    "     return read_or_save(\n",
    "            'candidate_unitemized_by_party_' + str(cycle)[2:],\n",
    "            lambda: pd.read_sql(\"\"\"\n",
    "            SELECT CASE\n",
    "                       WHEN cand_pty_affiliation = 'DEM' THEN 'Democrat'\n",
    "                       WHEN cand_pty_affiliation = 'DFL' THEN 'Democrat'\n",
    "                       WHEN cand_pty_affiliation = 'REP' THEN 'Republican'\n",
    "                       ELSE 'third party'\n",
    "                   END AS party,\n",
    "                   -- cand_office,\n",
    "                   count(DISTINCT cand_id) as candidates,\n",
    "                   sum(col_a_individual_contributions_itemized) AS itemized,\n",
    "                   sum(col_a_individual_contributions_unitemized) AS unitemized,\n",
    "                   sum(col_a_total_individual_contributions) AS indivs\n",
    "            FROM\n",
    "              (SELECT DISTINCT ON (cand_pcc) *\n",
    "               FROM fec_candidates\n",
    "               WHERE\n",
    "               cand_election_yr IN ('%(year_before)s','%(cycle)s') AND\n",
    "             cand_pcc IS NOT NULL\n",
    "               ORDER BY cand_pcc) AS cands\n",
    "            JOIN\n",
    "              (SELECT filing_id,\n",
    "                      filer_committee_id_number,\n",
    "                      col_a_individual_contributions_itemized,\n",
    "                  col_a_individual_contributions_unitemized,\n",
    "                  col_a_total_individual_contributions,\n",
    "                  col_a_total_receipts,\n",
    "                  col_a_total_disbursements,\n",
    "                  coverage_from_date,\n",
    "                  coverage_through_date\n",
    "           FROM fec_campaign_summaries\n",
    "           JOIN fec_amended_filings USING (filing_id)\n",
    "           WHERE filing_id >= 2000\n",
    "           UNION SELECT DISTINCT ON (filer_committee_id_number,\n",
    "                                     coverage_from_date,\n",
    "                                     coverage_through_date) filing_id,\n",
    "                                    filer_committee_id_number,\n",
    "                                    col_a_individual_contributions_itemized,\n",
    "                                    col_a_individual_contributions_unitemized,\n",
    "                                    col_a_total_individual_contributions,\n",
    "                                    col_a_total_receipts,\n",
    "                                    col_a_total_disbursements,\n",
    "                                    coverage_from_date,\n",
    "                                    coverage_through_date\n",
    "           FROM fec_paper_campaign_summaries\n",
    "           WHERE col_a_total_individual_contributions IS NOT NULL\n",
    "           ORDER BY filer_committee_id_number,\n",
    "                    coverage_through_date,\n",
    "                    coverage_from_date,\n",
    "                    filing_id DESC) AS summaries ON cand_pcc = filer_committee_id_number\n",
    "        WHERE extract(YEAR\n",
    "                      FROM coverage_through_date) >= %(year_before)s\n",
    "          AND coverage_through_date <= '%(cycle)s-09-30'::date\n",
    "          -- AND (col_a_total_receipts > 0\n",
    "        --       OR col_a_total_disbursements > 0)\n",
    "        GROUP BY -- cand_office,\n",
    "                 party\n",
    "        ORDER BY indivs DESC\n",
    "        \"\"\", con=conn, params={\"cycle\":cycle,\"year_before\":cycle-1})\n",
    "    )\n",
    "    \n",
    "candidate_unitemized_by_party_14 = calc_candidate_unitemized_by_party(2014)\n",
    "\n",
    "candidate_unitemized_by_party_14"
   ]
  },
  {
   "cell_type": "markdown",
   "metadata": {},
   "source": [
    "#### 2018\n",
    "Jan. 1, 2017 — Setptember 30, 2018"
   ]
  },
  {
   "cell_type": "code",
   "execution_count": null,
   "metadata": {},
   "outputs": [
    {
     "data": {
      "text/html": [
       "<div>\n",
       "<style scoped>\n",
       "    .dataframe tbody tr th:only-of-type {\n",
       "        vertical-align: middle;\n",
       "    }\n",
       "\n",
       "    .dataframe tbody tr th {\n",
       "        vertical-align: top;\n",
       "    }\n",
       "\n",
       "    .dataframe thead th {\n",
       "        text-align: right;\n",
       "    }\n",
       "</style>\n",
       "<table border=\"1\" class=\"dataframe\">\n",
       "  <thead>\n",
       "    <tr style=\"text-align: right;\">\n",
       "      <th></th>\n",
       "      <th>party</th>\n",
       "      <th>candidates</th>\n",
       "      <th>itemized</th>\n",
       "      <th>unitemized</th>\n",
       "      <th>indivs</th>\n",
       "    </tr>\n",
       "  </thead>\n",
       "  <tbody>\n",
       "    <tr>\n",
       "      <th>0</th>\n",
       "      <td>Democrat</td>\n",
       "      <td>1301</td>\n",
       "      <td>696,628,106.39</td>\n",
       "      <td>276,459,424.00</td>\n",
       "      <td>975,209,976.14</td>\n",
       "    </tr>\n",
       "    <tr>\n",
       "      <th>1</th>\n",
       "      <td>Republican</td>\n",
       "      <td>952</td>\n",
       "      <td>381,896,924.92</td>\n",
       "      <td>86,759,611.53</td>\n",
       "      <td>469,009,808.45</td>\n",
       "    </tr>\n",
       "    <tr>\n",
       "      <th>2</th>\n",
       "      <td>third party</td>\n",
       "      <td>155</td>\n",
       "      <td>10,106,223.08</td>\n",
       "      <td>8,605,058.75</td>\n",
       "      <td>18,765,006.83</td>\n",
       "    </tr>\n",
       "  </tbody>\n",
       "</table>\n",
       "</div>"
      ],
      "text/plain": [
       "         party  candidates       itemized     unitemized         indivs\n",
       "0     Democrat        1301 696,628,106.39 276,459,424.00 975,209,976.14\n",
       "1   Republican         952 381,896,924.92  86,759,611.53 469,009,808.45\n",
       "2  third party         155  10,106,223.08   8,605,058.75  18,765,006.83"
      ]
     },
     "execution_count": 9,
     "metadata": {},
     "output_type": "execute_result"
    }
   ],
   "source": [
    "candidate_unitemized_by_party_18 = calc_candidate_unitemized_by_party(2018)\n",
    "\n",
    "candidate_unitemized_by_party_18"
   ]
  },
  {
   "cell_type": "markdown",
   "metadata": {},
   "source": [
    "### Which ActBlue reports do we have?\n",
    "Jan 1, 2013 — now"
   ]
  },
  {
   "cell_type": "code",
   "execution_count": null,
   "metadata": {},
   "outputs": [],
   "source": [
    "actblue_summaries = read_or_save(\n",
    "    'actblue_summaries',\n",
    "    lambda: pd.read_sql(\"\"\"\n",
    "    SELECT *\n",
    "    FROM fec_pac_summaries\n",
    "    JOIN fec_amended_filings USING (filing_id)\n",
    "    WHERE filer_committee_id_number = '\"\"\" + committee_id + \"\"\"'\n",
    "    AND extract(year from coverage_through_date) >= \"\"\" + str(year_since) + \"\"\"\n",
    "    ORDER BY coverage_through_date DESC;\n",
    "    \"\"\", con=conn, parse_dates={\n",
    "        'coverage_from_date': '%Y-%m-%d',\n",
    "        'coverage_through_date': '%Y-%m-%d'\n",
    "    })\n",
    ")\n",
    "\n",
    "with pd.option_context('display.max_rows', None, 'display.max_columns', None):\n",
    "    display(actblue_summaries[[\n",
    "        'filing_id',\n",
    "        'coverage_from_date',\n",
    "        'coverage_through_date',\n",
    "        'report_code',\n",
    "        'col_a_total_contributions'\n",
    "    ]])"
   ]
  },
  {
   "cell_type": "markdown",
   "metadata": {},
   "source": [
    "### Are there any reports that FEC.gov has that we don't or vice versa?\n",
    "Jan. 1, 2013 — now"
   ]
  },
  {
   "cell_type": "code",
   "execution_count": null,
   "metadata": {},
   "outputs": [],
   "source": [
    "def get_reports(committee_id):\n",
    "    base = \"https://api.open.fec.gov/v1/\"\n",
    "    url = base + \"committee/\" + committee_id + \"/reports/?api_key=\" + conf['fec_key'] + \"&is_amended=False&per_page=100\"\n",
    "\n",
    "    return pd.DataFrame(requests.get(url).json()['results'])\n",
    "\n",
    "actblue_api_summaries = read_or_save('actblue_api_summaries', lambda: get_reports(committee_id))\n",
    "pd.to_numeric(actblue_api_summaries['calendar_ytd'])\n",
    "actblue_api_summaries = actblue_api_summaries[actblue_api_summaries['calendar_ytd'] >= year_since]\n",
    "actblue_api_summaries[['file_number','calendar_ytd']]\n",
    "\n",
    "pd.DataFrame(pd.concat([actblue_api_summaries['file_number'],\n",
    "                        actblue_summaries['filing_id']]).drop_duplicates(keep=False))"
   ]
  },
  {
   "cell_type": "markdown",
   "metadata": {},
   "source": [
    "### How many itemized federal individual contributions from ActBlue are we analyzing?\n",
    "Jan. 1, 2013 — now"
   ]
  },
  {
   "cell_type": "code",
   "execution_count": null,
   "metadata": {},
   "outputs": [],
   "source": [
    "def cycle(year):\n",
    "    return math.ceil(float(year) / 2.) * 2\n",
    "\n",
    "assert (cycle(2013) == 2014 and\n",
    "    cycle(2014) == 2014 and\n",
    "    cycle(2015) == 2016 and\n",
    "    cycle(2016) == 2016 and\n",
    "    cycle(2017) == 2018 and\n",
    "    cycle(2018) == 2018),\"unexpected cycle output\""
   ]
  },
  {
   "cell_type": "code",
   "execution_count": null,
   "metadata": {},
   "outputs": [],
   "source": [
    "actblue_contrib_count_by_year = read_or_save(\n",
    "    'actblue_contrib_count_by_year',\n",
    "    lambda: pd.read_sql(\"\"\"\n",
    "    -- DROP MATERIALIZED VIEW actblue_contribs;\n",
    "\n",
    "    CREATE MATERIALIZED VIEW IF NOT EXISTS actblue_contribs AS\n",
    "    SELECT contribs.*,\n",
    "           fec_expenditures.election_code,\n",
    "           beneficiary_committee_fec_id,\n",
    "           beneficiary_candidate_fec_id,\n",
    "           beneficiary_candidate_state,\n",
    "           beneficiary_candidate_office,\n",
    "           coalesce(cands.cand_id,cand_comms.cand_id) AS cand_id,\n",
    "           coalesce(cands.cand_pty_affiliation,cand_comms.cand_pty_affiliation) AS cand_pty_affiliation,\n",
    "           coalesce(cands.cand_office_st,cand_comms.cand_office_st) AS cand_office_st,\n",
    "           coalesce(cands.cand_office,cand_comms.cand_office) AS cand_office,\n",
    "           coalesce(cands.cand_pcc,cand_comms.cand_pcc) AS cand_pcc\n",
    "    FROM\n",
    "      (SELECT fec_contributions.filing_id,\n",
    "              transaction_id,\n",
    "              contributor_last_name,\n",
    "              contributor_first_name,\n",
    "              contributor_street_1,\n",
    "              contributor_city,\n",
    "              contributor_state,\n",
    "              contributor_zip_code,\n",
    "              contribution_date,\n",
    "              contribution_amount,\n",
    "              contributor_employer,\n",
    "              contributor_occupation,\n",
    "              memo_text_description\n",
    "       FROM fec_contributions\n",
    "       WHERE filing_id IN\n",
    "           (SELECT filing_id\n",
    "            FROM fec_pac_summaries\n",
    "            JOIN fec_amended_filings USING (filing_id)\n",
    "            WHERE filer_committee_id_number = 'C00401224'\n",
    "              AND extract(YEAR\n",
    "                          FROM coverage_through_date) >= 2013\n",
    "            ORDER BY coverage_through_date DESC)\n",
    "         AND form_type = 'SA11AI') AS contribs\n",
    "    LEFT JOIN fec_expenditures ON fec_expenditures.filing_id IN\n",
    "      (SELECT filing_id\n",
    "       FROM fec_pac_summaries\n",
    "       JOIN fec_amended_filings USING (filing_id)\n",
    "       WHERE filer_committee_id_number = 'C00401224'\n",
    "         AND extract(YEAR\n",
    "                     FROM coverage_through_date) >= 2013\n",
    "       ORDER BY coverage_through_date DESC)\n",
    "    AND fec_expenditures.form_type = 'SB23'\n",
    "    AND 'SB23_' || replace(transaction_id,'SA11AI_','') = transaction_id_number\n",
    "    LEFT JOIN\n",
    "      (SELECT DISTINCT ON (cand_id) cand_id,\n",
    "                          cand_pcc,\n",
    "                          cand_pty_affiliation,\n",
    "                          cand_office_st,\n",
    "                          cand_office\n",
    "       FROM fec_candidates\n",
    "       ORDER BY cand_id,\n",
    "                cand_election_yr::int DESC) AS cands ON cands.cand_id = beneficiary_candidate_fec_id\n",
    "    LEFT JOIN\n",
    "      (SELECT DISTINCT ON (cand_pcc) cand_id,\n",
    "                          cand_pcc,\n",
    "                          cand_pty_affiliation,\n",
    "                          cand_office_st,\n",
    "                          cand_office\n",
    "       FROM fec_candidates\n",
    "       ORDER BY cand_pcc,\n",
    "                cand_election_yr::int DESC) AS cand_comms\n",
    "    ON cand_comms.cand_pcc = beneficiary_committee_fec_id;\n",
    "                \n",
    "    -- CREATE INDEX ON actblue_contribs ()\n",
    "\n",
    "    GRANT ALL ON TABLE actblue_contribs TO redash_default;\n",
    "    GRANT ALL ON TABLE actblue_contribs TO politics;\n",
    "\n",
    "    -- REFRESH MATERIALIZED VIEW actblue_contribs;\n",
    "    -- ANALYZE actblue_contribs;\n",
    "\n",
    "    SELECT extract(YEAR\n",
    "                   FROM contribution_date) AS YEAR,\n",
    "           count(*),\n",
    "           sum(contribution_amount)\n",
    "    FROM actblue_contribs\n",
    "    GROUP BY extract(YEAR\n",
    "                     FROM contribution_date);\n",
    "    \"\"\", con=conn)\n",
    ")\n",
    "\n",
    "actblue_contrib_count_by_year['cycle'] = actblue_contrib_count_by_year[~actblue_contrib_count_by_year['year'].isna()]['year'].apply(cycle)\n",
    "\n",
    "actblue_contrib_count_by_cycle = pd.DataFrame(\n",
    "    actblue_contrib_count_by_year.groupby(actblue_contrib_count_by_year['cycle'])['count','sum'].sum()\n",
    ")\n",
    "actblue_contrib_count_by_cycle"
   ]
  },
  {
   "cell_type": "markdown",
   "metadata": {},
   "source": [
    "### How much in itemized federal individual contributions to Congress are we analyzing?\n",
    "Jan. 1, 2013 — now"
   ]
  },
  {
   "cell_type": "code",
   "execution_count": null,
   "metadata": {},
   "outputs": [],
   "source": [
    "actblue_congress_contrib_count_by_year = read_or_save(\n",
    "    'actblue_congress_contrib_totals',\n",
    "    lambda: pd.read_sql(\"\"\"\n",
    "    SELECT extract(YEAR\n",
    "                   FROM contribution_date) AS YEAR,\n",
    "           count(*),\n",
    "           sum(contribution_amount)\n",
    "    FROM actblue_contribs\n",
    "    WHERE beneficiary_candidate_office IN ('H','S')\n",
    "    GROUP BY extract(YEAR\n",
    "                     FROM contribution_date);\n",
    "    \"\"\", con=conn)\n",
    ")\n",
    "\n",
    "actblue_congress_contrib_count_by_year['cycle'] = actblue_congress_contrib_count_by_year[~actblue_congress_contrib_count_by_year['year'].isna()]['year'].apply(cycle)\n",
    "\n",
    "actblue_congress_contrib_count_by_cycle = pd.DataFrame(\n",
    "    actblue_congress_contrib_count_by_year.groupby(actblue_congress_contrib_count_by_year['cycle'])['count','sum'].sum()\n",
    ")\n",
    "actblue_congress_contrib_count_by_cycle\n"
   ]
  },
  {
   "cell_type": "markdown",
   "metadata": {},
   "source": [
    "### How have total contributions to ActBlue changed over reporting periods?\n",
    "Jan. 1, 2013 — now"
   ]
  },
  {
   "cell_type": "code",
   "execution_count": null,
   "metadata": {},
   "outputs": [],
   "source": [
    "contribs_over_time = actblue_summaries[['coverage_through_date','col_a_total_contributions']]\n",
    "\n",
    "# https://scentellegher.github.io/programming/2017/05/24/pandas-bar-plot-with-formatted-dates.html\n",
    "contribs_over_time.set_index('coverage_through_date',inplace=True)\n",
    "\n",
    "fig, ax = plt.subplots(figsize=(12,7))\n",
    "\n",
    "ax.xaxis.set_major_locator(mdates.YearLocator())\n",
    "ax.xaxis.set_major_formatter(mdates.DateFormatter('%Y'))\n",
    "\n",
    "# https://matplotlib.org/examples/pylab_examples/custom_ticker1.html\n",
    "ax.yaxis.set_major_formatter(ticker.FuncFormatter(lambda x, p: '$%1.fM' % (x*1e-6)))\n",
    "\n",
    "ax.bar(contribs_over_time.index, contribs_over_time['col_a_total_contributions'], width=5)\n",
    "\n",
    "ax.set_title('Total contributions by reporting period')"
   ]
  },
  {
   "cell_type": "markdown",
   "metadata": {},
   "source": [
    "### Contributions by day"
   ]
  },
  {
   "cell_type": "code",
   "execution_count": null,
   "metadata": {},
   "outputs": [],
   "source": [
    "actblue_contribs_by_day = read_or_save(\n",
    "    'actblue_contribs_by_day',\n",
    "    lambda: pd.read_sql(\"\"\"\n",
    "    SELECT contribution_date,\n",
    "           sum(contribution_amount),\n",
    "           count(*)\n",
    "    FROM actblue_contribs\n",
    "    -- where extract(year from contribution_date) >= 2017 and\n",
    "    -- where cand_office in ('S','H')\n",
    "    GROUP BY contribution_date\n",
    "    \"\"\", con=conn)\n",
    ")\n",
    "\n",
    "actblue_contribs_by_day"
   ]
  },
  {
   "cell_type": "code",
   "execution_count": null,
   "metadata": {},
   "outputs": [],
   "source": [
    "actblue_contribs_by_day.to_csv('data/actblue_contribs_by_day.csv')"
   ]
  },
  {
   "cell_type": "markdown",
   "metadata": {},
   "source": [
    "Spreadsheet: [actblue_contribs_by_day.csv](data/actblue_contribs_by_day.csv)"
   ]
  },
  {
   "cell_type": "markdown",
   "metadata": {},
   "source": [
    "### Congressional contributions by day"
   ]
  },
  {
   "cell_type": "code",
   "execution_count": null,
   "metadata": {},
   "outputs": [],
   "source": [
    "actblue_congress_contribs_by_day = read_or_save(\n",
    "    'actblue_congress_contribs_by_day',\n",
    "    lambda: pd.read_sql(\"\"\"\n",
    "    SELECT contribution_date,\n",
    "           sum(contribution_amount),\n",
    "           count(*)\n",
    "    FROM actblue_contribs\n",
    "    -- where extract(year from contribution_date) >= 2017 and\n",
    "    where cand_office in ('S','H')\n",
    "    GROUP BY contribution_date\n",
    "    \"\"\", con=conn)\n",
    ")\n",
    "\n",
    "actblue_congress_contribs_by_day"
   ]
  },
  {
   "cell_type": "code",
   "execution_count": null,
   "metadata": {},
   "outputs": [],
   "source": [
    "actblue_congress_contribs_by_day.to_csv('data/actblue_congress_contribs_by_day.csv')"
   ]
  },
  {
   "cell_type": "markdown",
   "metadata": {},
   "source": [
    "Spreadsheet: [actblue_congress_contribs_by_day.csv](data/actblue_congress_contribs_by_day.csv)"
   ]
  },
  {
   "cell_type": "markdown",
   "metadata": {},
   "source": [
    "### How have total federal contributions to ActBlue changed between cycles?\n",
    "Jan. 1, 2013 — now"
   ]
  },
  {
   "cell_type": "code",
   "execution_count": null,
   "metadata": {},
   "outputs": [],
   "source": [
    "actblue_summaries['cycle'] = actblue_summaries.coverage_through_date.dt.year.apply(cycle)\n",
    "\n",
    "contribs_by_cycle = pd.DataFrame(\n",
    "    actblue_summaries.groupby(actblue_summaries['cycle'])['col_a_total_contributions'].sum()\n",
    ")\n",
    "contribs_by_cycle"
   ]
  },
  {
   "cell_type": "markdown",
   "metadata": {},
   "source": [
    "#### Cycle to date"
   ]
  },
  {
   "cell_type": "code",
   "execution_count": null,
   "metadata": {},
   "outputs": [],
   "source": [
    "actblue_summaries['cycle'] = actblue_summaries.coverage_through_date.dt.year.apply(cycle)\n",
    "\n",
    "actblue_summaries_to_date = actblue_summaries[((actblue_summaries['coverage_through_date'] >= '2017-01-01') &\n",
    "                                              (actblue_summaries['coverage_through_date'] <= '2018-08-31')) |\n",
    "                                              ((actblue_summaries['coverage_through_date'] >= '2015-01-01') &\n",
    "                                              (actblue_summaries['coverage_through_date'] <= '2016-08-31')) | \n",
    "                                              ((actblue_summaries['coverage_through_date'] >= '2013-01-01') &\n",
    "                                              (actblue_summaries['coverage_through_date'] <= '2014-08-31'))]\n",
    "\n",
    "contribs_by_cycle = pd.DataFrame(\n",
    "    actblue_summaries_to_date.groupby(actblue_summaries_to_date['cycle'])['col_a_total_contributions'].sum()\n",
    ")\n",
    "contribs_by_cycle"
   ]
  },
  {
   "cell_type": "code",
   "execution_count": null,
   "metadata": {},
   "outputs": [],
   "source": [
    "# https://scentellegher.github.io/programming/2017/05/24/pandas-bar-plot-with-formatted-dates.html\n",
    "# contribs_by_year.set_index('coverage_through_date',inplace=True)\n",
    "\n",
    "fig, ax = plt.subplots(figsize=(10,7))\n",
    "\n",
    "ax.xaxis.set_major_locator(mdates.YearLocator())\n",
    "# ax.xaxis.set_major_formatter(mdates.DateFormatter('%Y'))\n",
    "\n",
    "# https://matplotlib.org/examples/pylab_examples/custom_ticker1.html\n",
    "ax.yaxis.set_major_formatter(ticker.FuncFormatter(lambda x, p: '$%1.fM' % (x*1e-6)))\n",
    "\n",
    "ax.bar(contribs_by_cycle.index, contribs_by_cycle['col_a_total_contributions'], width=0.8)\n",
    "\n",
    "ax.set_title('Total contributions by cycle')"
   ]
  },
  {
   "cell_type": "markdown",
   "metadata": {},
   "source": [
    "### Which committees receive contributions through ActBlue?\n",
    "Jan. 1, 2013 — now"
   ]
  },
  {
   "cell_type": "code",
   "execution_count": null,
   "metadata": {},
   "outputs": [],
   "source": [
    "actblue_transfers = read_or_save(\n",
    "    'actblue_transfers',\n",
    "    lambda: pd.read_sql(\"\"\"\n",
    "    SELECT fec_committees.name,\n",
    "           totals.*\n",
    "    FROM\n",
    "      (SELECT beneficiary_committee_fec_id,\n",
    "              count(*),\n",
    "              sum(contribution_amount)\n",
    "       FROM actblue_contribs\n",
    "       GROUP BY beneficiary_committee_fec_id) AS totals\n",
    "    LEFT JOIN fec_committees ON beneficiary_committee_fec_id = fec_committees.id\n",
    "    \"\"\", con=conn)\n",
    ")\n",
    "actblue_transfers.sort_values(by=['sum'], ascending=False).head(20)"
   ]
  },
  {
   "cell_type": "markdown",
   "metadata": {},
   "source": [
    "### How much of this is a contribution to ActBlue?\n",
    "Jan. 1, 2013 — now"
   ]
  },
  {
   "cell_type": "code",
   "execution_count": null,
   "metadata": {},
   "outputs": [],
   "source": [
    "actblue_itself = read_or_save(\n",
    "    'actblue_itself',\n",
    "    lambda: pd.read_sql(\"\"\"\n",
    "    SELECT count(*),\n",
    "           sum(contribution_amount)\n",
    "    FROM actblue_contribs\n",
    "    WHERE memo_text_description = 'Contribution to ActBlue'\n",
    "    \"\"\", con=conn)\n",
    ")\n",
    "actblue_itself"
   ]
  },
  {
   "cell_type": "code",
   "execution_count": null,
   "metadata": {},
   "outputs": [],
   "source": [
    "# \"this may be in addition to the \" + str(actblue_transfers[~actblue_transfers['beneficiary_committee_fec_id'].isna()]['sum'].sum()*.0395) + \" in fees that ActBlue would collect from the other contribs\"\n"
   ]
  },
  {
   "cell_type": "markdown",
   "metadata": {},
   "source": [
    "### How many Democratic campaigns received contributions through ActBlue? What percentage of Democratic campaigns is that?\n",
    "Jan. 1, 2017 — now"
   ]
  },
  {
   "cell_type": "code",
   "execution_count": null,
   "metadata": {},
   "outputs": [],
   "source": [
    "actblue_proportion = read_or_save(\n",
    "    'actblue_proportion',\n",
    "    lambda: pd.read_sql(\"\"\"\n",
    "    SELECT actblue,\n",
    "           count(*)\n",
    "    FROM\n",
    "      (SELECT cand_id,\n",
    "              cand_pcc,\n",
    "              CASE\n",
    "                  WHEN COUNT IS NOT NULL THEN TRUE\n",
    "                  ELSE FALSE\n",
    "              END AS actblue\n",
    "       FROM (SELECT DISTINCT ON (cand_id,\n",
    "                               cand_pcc) *\n",
    "           FROM fec_candidates\n",
    "           WHERE cand_election_yr IN ('2018','2017')\n",
    "             AND cand_pcc IS NOT NULL\n",
    "             AND cand_pty_affiliation IN ('DFL',\n",
    "                                      'DEM')\n",
    "           ORDER BY cand_id,\n",
    "                    cand_pcc) AS cands\n",
    "       LEFT JOIN\n",
    "         (SELECT fec_committees.name,\n",
    "                 totals.*\n",
    "          FROM\n",
    "            (SELECT beneficiary_committee_fec_id,\n",
    "                    count(*) AS COUNT,\n",
    "                    sum(contribution_amount)\n",
    "             FROM actblue_contribs\n",
    "             WHERE extract(YEAR\n",
    "                                FROM contribution_date) >= 2017\n",
    "             GROUP BY beneficiary_committee_fec_id) AS totals\n",
    "          LEFT JOIN fec_committees ON beneficiary_committee_fec_id = fec_committees.id) AS actblue_committees ON cand_pcc = beneficiary_committee_fec_id) AS actblue_candidates\n",
    "    GROUP BY actblue\n",
    "    \"\"\", con=conn)\n",
    ")\n",
    "\n",
    "actblue_proportion['percent'] = actblue_proportion['count']/actblue_proportion['count'].sum()*100\n",
    "\n",
    "actblue_proportion"
   ]
  },
  {
   "cell_type": "markdown",
   "metadata": {},
   "source": [
    "### Rise of ActBlue: What percent of Democratic congresssional campaign cash from individuals was raised through ActBlue by cycle? How about 2014?"
   ]
  },
  {
   "cell_type": "code",
   "execution_count": null,
   "metadata": {},
   "outputs": [],
   "source": [
    "def calc_actblue_proportion_amount(cycle):\n",
    "    return read_or_save(\n",
    "        'actblue_proportion_amount_' + str(cycle)[2:],\n",
    "        lambda: pd.read_sql('''\n",
    "        WITH cands AS\n",
    "          (SELECT DISTINCT ON (cand_pcc) *\n",
    "           FROM fec_candidates\n",
    "           WHERE cand_election_yr IN ('%(year_before)s',\n",
    "                                      '%(cycle)s')\n",
    "             AND cand_pty_affiliation IN ('DFL',\n",
    "                                          'DEM')\n",
    "             AND cand_pcc IS NOT NULL\n",
    "           ORDER BY cand_pcc),\n",
    "             candidate_totals AS\n",
    "          (SELECT cand_id,\n",
    "                  cand_pcc,\n",
    "                  cand_name,\n",
    "                  cand_office,\n",
    "                  cand_office_st,\n",
    "                  cand_office_district,\n",
    "                  cand_election_yr,\n",
    "                  coverage_from_date,\n",
    "                  coverage_through_date,\n",
    "                  col_a_total_individual_contributions\n",
    "           FROM cands\n",
    "           JOIN fec_campaign_summaries ON cand_pcc = filer_committee_id_number\n",
    "           JOIN fec_amended_filings USING (filing_id)\n",
    "           WHERE extract(YEAR\n",
    "                         FROM coverage_through_date) >= %(year_before)s\n",
    "             AND coverage_through_date <= '%(cycle)s-09-30'::date\n",
    "             AND filing_id >= 2000\n",
    "           UNION SELECT cand_id,\n",
    "                        cand_pcc,\n",
    "                        cand_name,\n",
    "                        cand_office,\n",
    "                        cand_office_st,\n",
    "                        cand_office_district,\n",
    "                        cand_election_yr,\n",
    "                        coverage_from_date,\n",
    "                        coverage_through_date,\n",
    "                        col_a_total_individual_contributions\n",
    "           FROM cands\n",
    "           JOIN\n",
    "             (SELECT DISTINCT ON (filer_committee_id_number,\n",
    "                                  coverage_from_date,\n",
    "                                  coverage_through_date) filing_id,\n",
    "                                 filer_committee_id_number,\n",
    "                                 col_a_total_individual_contributions,\n",
    "                                 coverage_from_date,\n",
    "                                 coverage_through_date\n",
    "              FROM fec_paper_campaign_summaries\n",
    "              WHERE col_a_total_individual_contributions IS NOT NULL\n",
    "              ORDER BY filer_committee_id_number,\n",
    "                       coverage_through_date,\n",
    "                       coverage_from_date,\n",
    "                       filing_id DESC) AS paper_totals ON cand_pcc = filer_committee_id_number\n",
    "           WHERE extract(YEAR\n",
    "                         FROM coverage_through_date) >= %(year_before)s\n",
    "             AND coverage_through_date <= '%(cycle)s-09-30'::date)\n",
    "        SELECT  cand_pcc,\n",
    "                max(cand_name) as cand_name,\n",
    "                max(cand_office) as cand_office,\n",
    "                max(cand_office_st) as cand_office_st,\n",
    "                max(cand_office_district) as cand_office_district,\n",
    "                max(cand_election_yr) as cand_election_yr,\n",
    "               array_agg(coverage_from_date) AS from_dates,\n",
    "               array_agg(coverage_through_date) AS through_dates,\n",
    "               sum(col_a_total_individual_contributions) AS committee_total,\n",
    "               sum(actblue_total) AS actblue_total\n",
    "        FROM\n",
    "          (SELECT candidate_totals.cand_pcc,\n",
    "                max(candidate_totals.cand_name) as cand_name,\n",
    "                max(candidate_totals.cand_office) as cand_office,\n",
    "                max(candidate_totals.cand_office_st) as cand_office_st,\n",
    "                max(candidate_totals.cand_office_district) as cand_office_district,\n",
    "                max(candidate_totals.cand_election_yr) as cand_election_yr,\n",
    "                  coverage_from_date,\n",
    "                  coverage_through_date,\n",
    "                  col_a_total_individual_contributions,\n",
    "                  sum(contribution_amount) AS actblue_total,\n",
    "                  count(*) as actblue_count\n",
    "           FROM candidate_totals\n",
    "           LEFT JOIN actblue_contribs ON extract(YEAR\n",
    "                                                 FROM coverage_through_date) >= %(year_before)s\n",
    "           AND coverage_through_date <= '%(cycle)s-09-30'::date\n",
    "           AND actblue_contribs.cand_pcc = candidate_totals.cand_pcc\n",
    "           AND coverage_from_date <= contribution_date\n",
    "           AND coverage_through_date >= contribution_date\n",
    "           GROUP BY candidate_totals.cand_pcc,\n",
    "                    col_a_total_individual_contributions,\n",
    "                    coverage_from_date,\n",
    "                    coverage_through_date) AS totals\n",
    "        GROUP BY cand_pcc\n",
    "        ''',con=conn,params={\"cycle\":cycle,\"year_before\":cycle-1})\n",
    "    )\n",
    "\n",
    "actblue_proportion_amount = calc_actblue_proportion_amount(2018)"
   ]
  },
  {
   "cell_type": "code",
   "execution_count": null,
   "metadata": {},
   "outputs": [],
   "source": [
    "actblue_proportion_amount['percent'] = actblue_proportion_amount['actblue_total']/actblue_proportion_amount['committee_total']"
   ]
  },
  {
   "cell_type": "code",
   "execution_count": null,
   "metadata": {},
   "outputs": [],
   "source": [
    "actblue_proportion_amount[(actblue_proportion_amount['percent'] > 1) & (actblue_proportion_amount['actblue_total'] > 20000)]"
   ]
  },
  {
   "cell_type": "code",
   "execution_count": null,
   "metadata": {},
   "outputs": [],
   "source": [
    "actblue_proportion_amount[(~actblue_proportion_amount['percent'].isna()) & (actblue_proportion_amount['percent'] <= 1) & (actblue_proportion_amount['committee_total'] > 20000)].sort_values(by=['percent'],ascending=False)"
   ]
  },
  {
   "cell_type": "code",
   "execution_count": null,
   "metadata": {},
   "outputs": [],
   "source": [
    "str(round(actblue_proportion_amount['actblue_total'].sum()/actblue_proportion_amount['committee_total'].sum()*100,2)) + \" percent of contributions from individuals to Democratic campaigns came through ActBlue in the 2018 cycle (Jan. 1, 2017 — June 30, 2018)\"\n",
    "    "
   ]
  },
  {
   "cell_type": "code",
   "execution_count": null,
   "metadata": {},
   "outputs": [],
   "source": [
    "actblue_proportion_amount.to_csv('data/actblue_proportion.csv')"
   ]
  },
  {
   "cell_type": "code",
   "execution_count": null,
   "metadata": {},
   "outputs": [],
   "source": [
    "actblue_proportion_amount_14 = calc_actblue_proportion_amount(2014)\n",
    "\n",
    "str(round(actblue_proportion_amount_14['actblue_total'].sum()/actblue_proportion_amount_14['committee_total'].sum()*100,2)) + \" percent of contributions from individuals to Democratic campaigns came through ActBlue in the 2014 cycle (Jan. 1, 2013 — June 30, 2014)\""
   ]
  },
  {
   "cell_type": "markdown",
   "metadata": {},
   "source": [
    "### Did candidates in the DCCC’s Red to Blue program receive a higher percentage of their contributions through ActBlue?\n",
    "Jan. 1, 2017 — June 30, 2018"
   ]
  },
  {
   "cell_type": "code",
   "execution_count": null,
   "metadata": {},
   "outputs": [],
   "source": [
    "redtoblue = ['C00572859',\n",
    "            'C00575209',\n",
    "            'C00578476',\n",
    "            'C00633982',\n",
    "            'C00637074',\n",
    "            'C00637363',\n",
    "            'C00637371',\n",
    "            'C00637868',\n",
    "            'C00640003',\n",
    "            'C00640045',\n",
    "            'C00640714',\n",
    "            'C00641381',\n",
    "            'C00646745',\n",
    "            'C00646752',\n",
    "            'C00647537',\n",
    "            'C00648220',\n",
    "            'C00648493',\n",
    "            'C00648725',\n",
    "            'C00648956',\n",
    "            'C00649327',\n",
    "            'C00649483',\n",
    "            'C00649558',\n",
    "            'C00649798',\n",
    "            'C00650150',\n",
    "            'C00650648',\n",
    "            'C00651042',\n",
    "            'C00652065',\n",
    "            'C00652248',\n",
    "            'C00652297',\n",
    "            'C00652594',\n",
    "            'C00652719',\n",
    "            'C00653121',\n",
    "            'C00654400',\n",
    "            'C00656686',\n",
    "            'C00658633',\n",
    "            'C00661868',\n",
    "            'C00662577',\n",
    "            'C00664375',\n",
    "            'C00666149',\n",
    "            'C00667519',\n",
    "            'C00668228',\n",
    "            'C00671156',\n",
    "            'C00675538',\n",
    "            'C00639146',\n",
    "            'C00634212',\n",
    "            'C00636571',\n",
    "            'C00634253',\n",
    "            'C00646844',\n",
    "            'C00653816',\n",
    "            'C00667097',\n",
    "            'C00658567',\n",
    "            'C00649913',\n",
    "            'C00638023',\n",
    "            'C00647164',\n",
    "            'C00639989']\n",
    "\n",
    "redtoblue_actblue = actblue_proportion_amount[actblue_proportion_amount['cand_pcc'].isin(redtoblue)]"
   ]
  },
  {
   "cell_type": "code",
   "execution_count": null,
   "metadata": {},
   "outputs": [],
   "source": [
    "str(round(redtoblue_actblue['actblue_total'].sum()/redtoblue_actblue['committee_total'].sum()*100,2)) + \" percent of contributions from individuals to Democratic campaigns in the Red to Blue program came through ActBlue in the 2018 cycle\"\n",
    "          "
   ]
  },
  {
   "cell_type": "markdown",
   "metadata": {},
   "source": [
    "### Do candidates who pledge not to take corporate PAC money get more contributions than other candidates?\n",
    "Jan. 1, 2017 — June 30, 2018"
   ]
  },
  {
   "cell_type": "code",
   "execution_count": null,
   "metadata": {},
   "outputs": [],
   "source": [
    "endcu = ['C00413914',\n",
    "        'C00420760',\n",
    "        'C00500843',\n",
    "        'C00516047',\n",
    "        'C00505552',\n",
    "        'C00434563',\n",
    "        'C00326801',\n",
    "        'C00431353',\n",
    "        'C00431304',\n",
    "        'C00412304',\n",
    "        'C00264697',\n",
    "        'C00431056',\n",
    "        'C00410803',\n",
    "        'C00344051',\n",
    "        'C00344473',\n",
    "        'C00238865',\n",
    "        'C00460261',\n",
    "        'C00469163',\n",
    "        'C00462861',\n",
    "        'C00476564',\n",
    "        'C00345546',\n",
    "        'C00459099',\n",
    "        'C00374058',\n",
    "        'C00513077',\n",
    "        'C00502294',\n",
    "        'C00510461',\n",
    "        'C00502575',\n",
    "        'C00498667',\n",
    "        'C00503110',\n",
    "        'C00590489',\n",
    "        'C00494856',\n",
    "        'C00497396',\n",
    "        'C00495952',\n",
    "        'C00498568',\n",
    "        'C00140715',\n",
    "        'C00499947',\n",
    "        'C00516666',\n",
    "        'C00503052',\n",
    "        'C00635722',\n",
    "        'C00273169',\n",
    "        'C00512426',\n",
    "        'C00500421',\n",
    "        'C00497933',\n",
    "        'C00514893',\n",
    "        'C00502179',\n",
    "        'C00558627',\n",
    "        'C00503185',\n",
    "        'C00557652',\n",
    "        'C00541888',\n",
    "        'C00547240',\n",
    "        'C00401190',\n",
    "        'C00558320',\n",
    "        'C00555813',\n",
    "        'C00422360',\n",
    "        'C00576041',\n",
    "        'C00577353',\n",
    "        'C00620443',\n",
    "        'C00590067',\n",
    "        'C00575092',\n",
    "        'C00419630',\n",
    "        'C00415182',\n",
    "        'C00574640',\n",
    "        'C00310318',\n",
    "        'C00575126',\n",
    "        'C00572859',\n",
    "        'C00573949',\n",
    "        'C00592659',\n",
    "        'C00610964',\n",
    "        'C00605592',\n",
    "        'C00668574',\n",
    "        'C00671156',\n",
    "        'C00651042',\n",
    "        'C00649897',\n",
    "        'C00213512',\n",
    "        'C00331769',\n",
    "        'C00648956',\n",
    "        'C00638510',\n",
    "        'C00650648',\n",
    "        'C00633982',\n",
    "        'C00635888',\n",
    "        'C00637363',\n",
    "        'C00649798',\n",
    "        'C00652594',\n",
    "        'C00652065',\n",
    "        'C00649376',\n",
    "        'C00637074',\n",
    "        'C00646844',\n",
    "        'C00648493',\n",
    "        'C00327023',\n",
    "        'C00649558',\n",
    "        'C00649483',\n",
    "        'C00652719',\n",
    "        'C00657635',\n",
    "        'C00651331',\n",
    "        'C00653121',\n",
    "        'C00651158',\n",
    "        'C00646745',\n",
    "        'C00639427',\n",
    "        'C00653816',\n",
    "        'C00636324',\n",
    "        'C00649327',\n",
    "        'C00640714',\n",
    "        'C00650440',\n",
    "        'C00641381',\n",
    "        'C00662577',\n",
    "        'C00639310',\n",
    "        'C00640003',\n",
    "        'C00639054',\n",
    "        'C00666149',\n",
    "        'C00655613',\n",
    "        'C00338954',\n",
    "        'C00652248',\n",
    "        'C00236513',\n",
    "        'C00450049',\n",
    "        'C00648725',\n",
    "        'C00667519',\n",
    "        'C00646752',\n",
    "        'C00665471',\n",
    "        'C00446906',\n",
    "        'C00637371',\n",
    "        'C00667097',\n",
    "        'C00650507',\n",
    "        'C00640045',\n",
    "        'C00653923',\n",
    "        'C00652297',\n",
    "        'C00660555',\n",
    "        'C00649350',\n",
    "        'C00637868',\n",
    "        'C00658633',\n",
    "        'C00664375',\n",
    "        'C00649913',\n",
    "        'C00654400',\n",
    "        'C00639989',\n",
    "        'C00508804',\n",
    "        'C00654822',\n",
    "        'C00606939',\n",
    "        'C00501197',\n",
    "        'C00663146']\n",
    "\n",
    "endcu_actblue = actblue_proportion_amount[actblue_proportion_amount['cand_pcc'].isin(endcu)]"
   ]
  },
  {
   "cell_type": "code",
   "execution_count": null,
   "metadata": {},
   "outputs": [],
   "source": [
    "str(round(endcu_actblue['actblue_total'].sum()/endcu_actblue['committee_total'].sum()*100,2)) + \" percent of contributions from individuals to Democratic campaigns endorsed by End CU came through ActBlue in the 2018 cycle\""
   ]
  },
  {
   "cell_type": "markdown",
   "metadata": {},
   "source": [
    "### Where do the donors giving through ActBlue come from geographically? Any striking or interesting patterns?"
   ]
  },
  {
   "cell_type": "markdown",
   "metadata": {},
   "source": [
    "### Which states did contributions from come from for each candidate state?"
   ]
  },
  {
   "cell_type": "code",
   "execution_count": null,
   "metadata": {},
   "outputs": [],
   "source": [
    "actblue_states = read_or_save(\n",
    "    'actblue_states',\n",
    "    lambda: pd.read_sql(\"\"\"\n",
    "    SELECT contributor_state,\n",
    "           coalesce(beneficiary_candidate_state,cand_office_st) as recipient_state,\n",
    "           count(*),\n",
    "           sum(contribution_amount)\n",
    "    FROM actblue_contribs\n",
    "    WHERE extract(YEAR FROM contribution_date) >= 2017\n",
    "    and cand_office in ('H','S')\n",
    "    GROUP BY coalesce(beneficiary_candidate_state,cand_office_st),\n",
    "             contributor_state\n",
    "    \"\"\", con=conn)\n",
    ")\n",
    "\n",
    "actblue_states.sort_values(by=['sum'], ascending=False).head(10)"
   ]
  },
  {
   "cell_type": "code",
   "execution_count": null,
   "metadata": {},
   "outputs": [],
   "source": [
    "actblue_states.to_csv('data/actblue_states.csv')"
   ]
  },
  {
   "cell_type": "markdown",
   "metadata": {},
   "source": [
    "Spreadsheet: [actblue_states.csv](data/actblue_states.csv)"
   ]
  },
  {
   "cell_type": "markdown",
   "metadata": {},
   "source": [
    "### What percentage of the individual contributions to congressional candidates came from each state in this cycle?"
   ]
  },
  {
   "cell_type": "markdown",
   "metadata": {},
   "source": [
    "Jan. 1, 2017 — now"
   ]
  },
  {
   "cell_type": "code",
   "execution_count": null,
   "metadata": {},
   "outputs": [],
   "source": [
    "actblue_contributor_states = actblue_states.groupby(actblue_states['contributor_state']).agg({'sum': 'sum'})\n",
    "\n",
    "actblue_contributor_states['percent'] = actblue_contributor_states['sum']/actblue_contributor_states['sum'].sum()*100\n",
    "\n",
    "actblue_contributor_states.sort_values(by=['percent'], ascending=False).head(10)"
   ]
  },
  {
   "cell_type": "code",
   "execution_count": null,
   "metadata": {},
   "outputs": [],
   "source": [
    "actblue_contributor_states.to_csv('data/actblue_contributor_states.csv')"
   ]
  },
  {
   "cell_type": "markdown",
   "metadata": {},
   "source": [
    "### To which states do individual contributions to congressional candidates go?\n",
    "Jan. 1, 2017 — now"
   ]
  },
  {
   "cell_type": "code",
   "execution_count": null,
   "metadata": {},
   "outputs": [],
   "source": [
    "actblue_recipient_states = actblue_states.groupby(actblue_states['recipient_state']).agg({'sum': 'sum'})\n",
    "\n",
    "actblue_recipient_states['percent'] = actblue_recipient_states['sum']/actblue_recipient_states['sum'].sum()*100\n",
    "\n",
    "actblue_recipient_states.sort_values(by=['percent'], ascending=False)"
   ]
  },
  {
   "cell_type": "markdown",
   "metadata": {},
   "source": [
    "### Where is the money going? Are people giving to local congressional candidates or are they giving to candidates around the country?\n",
    "Jan. 1, 2017 — now"
   ]
  },
  {
   "cell_type": "code",
   "execution_count": null,
   "metadata": {},
   "outputs": [],
   "source": [
    "actblue_states['in'] = actblue_states['contributor_state'] == actblue_states['recipient_state']\n",
    "\n",
    "actblue_states.groupby(actblue_states['in'])['sum'].sum()"
   ]
  },
  {
   "cell_type": "code",
   "execution_count": null,
   "metadata": {},
   "outputs": [],
   "source": [
    "actblue_states[actblue_states['in'] == False]['sum'].sum()/actblue_states['sum'].sum()"
   ]
  },
  {
   "cell_type": "markdown",
   "metadata": {},
   "source": [
    "### What about Beto O'Rourke?"
   ]
  },
  {
   "cell_type": "code",
   "execution_count": null,
   "metadata": {},
   "outputs": [],
   "source": [
    "actblue_states_beto = read_or_save(\n",
    "    'actblue_states_beto',\n",
    "    lambda: pd.read_sql(\"\"\"\n",
    "    SELECT contributor_state,\n",
    "           coalesce(beneficiary_candidate_state,cand_office_st) as recipient_state,\n",
    "           count(*),\n",
    "           sum(contribution_amount)\n",
    "    FROM actblue_contribs\n",
    "    WHERE extract(YEAR FROM contribution_date) >= 2017\n",
    "    AND beneficiary_committee_fec_id = 'C00501197'\n",
    "    GROUP BY coalesce(beneficiary_candidate_state,cand_office_st),\n",
    "             contributor_state\n",
    "    \"\"\", con=conn)\n",
    ")\n",
    "\n",
    "actblue_states_beto['in'] = actblue_states_beto['contributor_state'] == actblue_states_beto['recipient_state']\n",
    "\n",
    "actblue_states_beto.groupby(actblue_states['in'])['sum'].sum()"
   ]
  },
  {
   "cell_type": "code",
   "execution_count": null,
   "metadata": {},
   "outputs": [],
   "source": [
    "actblue_states_beto.sort_values(by='sum', ascending=False).head(10)"
   ]
  },
  {
   "cell_type": "code",
   "execution_count": null,
   "metadata": {},
   "outputs": [],
   "source": [
    "actblue_states_beto[actblue_states_beto['in'] == False]['sum'].sum()/actblue_states_beto['sum'].sum()"
   ]
  },
  {
   "cell_type": "markdown",
   "metadata": {},
   "source": [
    "### Is money from blue states propping up Dems in red states?\n",
    "Jan. 1, 2017 — now"
   ]
  },
  {
   "cell_type": "code",
   "execution_count": null,
   "metadata": {},
   "outputs": [],
   "source": [
    "pres_votes = pd.read_csv('data/presvotes.csv')\n",
    "\n",
    "pres_votes['red'] = pres_votes['clinton'] < pres_votes['trump']\n",
    "pres_votes['blue'] = pres_votes['clinton'] > pres_votes['trump']\n",
    "\n",
    "pres_votes"
   ]
  },
  {
   "cell_type": "code",
   "execution_count": null,
   "metadata": {},
   "outputs": [],
   "source": [
    "pres_votes['margin'] = (pres_votes['clinton']/pres_votes['total'])-(pres_votes['trump']/pres_votes['total'])\n",
    "\n",
    "pres_votes_indexed = pres_votes.set_index('state')\n",
    "\n",
    "votes_vs_contribs = actblue_contributor_states.merge(pres_votes_indexed, left_index=True, right_index=True, how='inner')\n",
    "\n",
    "votes_vs_contribs['dollars_per'] = votes_vs_contribs['sum']/votes_vs_contribs['total']\n",
    "\n",
    "votes_vs_contribs[votes_vs_contribs.index != \"DC\"].plot.scatter(x='margin', y='dollars_per')\n"
   ]
  },
  {
   "cell_type": "code",
   "execution_count": null,
   "metadata": {},
   "outputs": [],
   "source": [
    "votes_vs_contribs[votes_vs_contribs['dollars_per'] > 7.5]"
   ]
  },
  {
   "cell_type": "code",
   "execution_count": null,
   "metadata": {},
   "outputs": [],
   "source": [
    "votes_vs_contribs.groupby(votes_vs_contribs['blue'])['sum'].sum()"
   ]
  },
  {
   "cell_type": "code",
   "execution_count": null,
   "metadata": {},
   "outputs": [],
   "source": [
    "contrib_flow = pres_votes[['state','blue']].merge(pres_votes[['state','blue']].merge(actblue_states, right_on='contributor_state', left_on='state', how='inner'), right_on='recipient_state', left_on='state', how='inner', suffixes=['_recip','_contrib'])\n",
    "\n",
    "contrib_flow\n",
    "\n",
    "pd.pivot_table(contrib_flow, values='sum', index=['blue_recip'], columns=['blue_contrib'], aggfunc=np.sum)"
   ]
  },
  {
   "cell_type": "markdown",
   "metadata": {},
   "source": [
    "What does this mean? If you're an ActBlue donor from a blue state, you're most likely to give to candidates in a blue state (often your own). But a close second is a red state. If you're an ActBlue donor in a red state, you're more likely to give to a red state (mostly, but not entirely, your own), but a distant second is a blue state."
   ]
  },
  {
   "cell_type": "markdown",
   "metadata": {},
   "source": [
    "#### Removing in-state"
   ]
  },
  {
   "cell_type": "code",
   "execution_count": null,
   "metadata": {},
   "outputs": [],
   "source": [
    "pd.pivot_table(contrib_flow[~contrib_flow['in']], values='sum', index=['blue_recip'], columns=['blue_contrib'], aggfunc=np.sum)\n"
   ]
  },
  {
   "cell_type": "markdown",
   "metadata": {},
   "source": [
    "#### Recipient states not in state"
   ]
  },
  {
   "cell_type": "code",
   "execution_count": null,
   "metadata": {},
   "outputs": [],
   "source": [
    "actblue_recipient_out_states = actblue_states[~actblue_states['in']].groupby(actblue_states[~actblue_states['in']]['recipient_state']).agg({'sum': 'sum'})\n",
    "\n",
    "actblue_recipient_out_states['percent'] = actblue_recipient_out_states['sum']/actblue_recipient_out_states['sum'].sum()*100\n",
    "\n",
    "actblue_recipient_out_states.sort_values(by=['percent'], ascending=False)"
   ]
  },
  {
   "cell_type": "markdown",
   "metadata": {},
   "source": [
    "### What about 2014?"
   ]
  },
  {
   "cell_type": "code",
   "execution_count": null,
   "metadata": {},
   "outputs": [],
   "source": [
    "actblue_states_14 = read_or_save(\n",
    "    'actblue_states_14',\n",
    "    lambda: pd.read_sql(\"\"\"\n",
    "    SELECT contributor_state,\n",
    "           coalesce(beneficiary_candidate_state,cand_office_st) as recipient_state,\n",
    "           count(*),\n",
    "           sum(contribution_amount)\n",
    "    FROM actblue_contribs\n",
    "    WHERE extract(YEAR FROM contribution_date) >= 2013\n",
    "    and extract(YEAR FROM contribution_date) <= 2014\n",
    "    and cand_office in ('H','S')\n",
    "    GROUP BY coalesce(beneficiary_candidate_state,cand_office_st),\n",
    "             contributor_state\n",
    "    \"\"\", con=conn)\n",
    ")\n",
    "\n",
    "actblue_states_14.sort_values(by=['sum'], ascending=False).head(10)"
   ]
  },
  {
   "cell_type": "code",
   "execution_count": null,
   "metadata": {},
   "outputs": [],
   "source": [
    "actblue_states_14['in'] = actblue_states_14['contributor_state'] == actblue_states_14['recipient_state']\n",
    "\n",
    "contrib_flow_14 = pres_votes[['state','blue']].merge(pres_votes[['state','blue']].merge(actblue_states_14, right_on='contributor_state', left_on='state', how='inner'), right_on='recipient_state', left_on='state', how='inner', suffixes=['_recip','_contrib'])\n",
    "\n",
    "pd.pivot_table(contrib_flow_14, values='sum', index=['blue_recip'], columns=['blue_contrib'], aggfunc=np.sum)"
   ]
  },
  {
   "cell_type": "markdown",
   "metadata": {},
   "source": [
    "#### Removing in-state"
   ]
  },
  {
   "cell_type": "code",
   "execution_count": null,
   "metadata": {},
   "outputs": [],
   "source": [
    "pd.pivot_table(contrib_flow_14[~contrib_flow_14['in']], values='sum', index=['blue_recip'], columns=['blue_contrib'], aggfunc=np.sum)\n"
   ]
  },
  {
   "cell_type": "markdown",
   "metadata": {},
   "source": [
    "## Percent of Clinton votes from California and New York"
   ]
  },
  {
   "cell_type": "code",
   "execution_count": null,
   "metadata": {},
   "outputs": [],
   "source": [
    "(pres_votes[pres_votes['state'] == 'CA']['clinton'].sum()+pres_votes[pres_votes['state'] == 'NY']['clinton'].sum())/pres_votes['clinton'].sum()"
   ]
  },
  {
   "cell_type": "markdown",
   "metadata": {},
   "source": [
    "### What about Texas? Which cities?"
   ]
  },
  {
   "cell_type": "code",
   "execution_count": null,
   "metadata": {},
   "outputs": [],
   "source": [
    "actblue_texas_cities = read_or_save(\n",
    "    'actblue_texas_cities',\n",
    "    lambda: pd.read_sql(\"\"\"\n",
    "    SELECT lower(contributor_city),\n",
    "           count(*) AS COUNT,\n",
    "           sum(contribution_amount) AS SUM\n",
    "    FROM actblue_contribs\n",
    "    WHERE contributor_state = 'TX'\n",
    "      AND extract(YEAR\n",
    "                  FROM contribution_date) > 2017\n",
    "      AND beneficiary_candidate_office IN ('H','S')\n",
    "    GROUP BY lower(contributor_city)\n",
    "    ORDER BY COUNT DESC\n",
    "    \"\"\", con=conn)\n",
    ")\n",
    "actblue_texas_cities.head(5)"
   ]
  },
  {
   "cell_type": "markdown",
   "metadata": {},
   "source": [
    "### What does this look like for special election candidates running in 2018?"
   ]
  },
  {
   "cell_type": "code",
   "execution_count": null,
   "metadata": {},
   "outputs": [],
   "source": [
    "specials = ['C00631564',\n",
    "            'C00634543',\n",
    "            'C00662650',\n",
    "            'C00615823',\n",
    "            'C00656116',\n",
    "            'C00663161',\n",
    "            'C00655332',\n",
    "            'C00647339',\n",
    "            'C00680348',\n",
    "            'C00632067',\n",
    "            'C00631945',\n",
    "            'C00629659',\n",
    "            'C00633362',\n",
    "            'C00641340',\n",
    "            'C00640623',\n",
    "            'C00657411',\n",
    "            'C00663914',\n",
    "            'C00655977',\n",
    "            'C00639401',\n",
    "            'C00633610',\n",
    "            'C00667964',\n",
    "            'C00630426',\n",
    "            'C00634709',\n",
    "            'C00680942',\n",
    "            'C00632232',\n",
    "            'C00658708',\n",
    "            'C00678672',\n",
    "            'C00649897',\n",
    "            'C00660142',\n",
    "            'C00679779',\n",
    "            'C00647917',\n",
    "            'C00635128']\n",
    "\n",
    "actblue_specials = actblue_proportion_amount[actblue_proportion_amount['cand_pcc'].isin(specials)].merge(actblue_transfers, left_on='cand_pcc', right_on='beneficiary_committee_fec_id', how='inner')[['cand_pcc','name','committee_total','actblue_total']]\n"
   ]
  },
  {
   "cell_type": "code",
   "execution_count": null,
   "metadata": {},
   "outputs": [],
   "source": [
    "actblue_specials.sum()"
   ]
  },
  {
   "cell_type": "markdown",
   "metadata": {},
   "source": [
    "### Do the majority of these donors give repeatedly or are they one and done? How “sticky” is this? What percentage of donors gave how many times?\n",
    "Jan. 1, 2013 — now"
   ]
  },
  {
   "cell_type": "markdown",
   "metadata": {},
   "source": [
    "_Note: Need to account for multi-candidate contribs._"
   ]
  },
  {
   "cell_type": "code",
   "execution_count": null,
   "metadata": {},
   "outputs": [],
   "source": [
    "actblue_freq = read_or_save(\n",
    "    'actblue_freq',\n",
    "    lambda: pd.read_sql(\"\"\"\n",
    "    SELECT COUNT,\n",
    "           count(*) AS count_of_count\n",
    "    FROM\n",
    "      (SELECT contributor_first_name,\n",
    "              contributor_last_name,\n",
    "              left(contributor_zip_code,5),\n",
    "              count(DISTINCT contribution_date::text || contribution_amount) AS COUNT\n",
    "       FROM actblue_contribs\n",
    "       WHERE extract(year from contribution_date) >= 2017\n",
    "       GROUP BY contributor_first_name,\n",
    "                contributor_last_name,\n",
    "                left(contributor_zip_code,5)) AS donors\n",
    "    GROUP BY COUNT\n",
    "    \"\"\", con=conn)\n",
    ")\n",
    "\n",
    "actblue_freq['percent'] = actblue_freq['count_of_count']/actblue_freq['count_of_count'].sum()*100\n",
    "\n",
    "actblue_freq.sort_values(by=['count_of_count'], ascending=False).head(5)"
   ]
  },
  {
   "cell_type": "code",
   "execution_count": null,
   "metadata": {},
   "outputs": [],
   "source": [
    "actblue_freq.to_csv('data/actblue_freq.csv')"
   ]
  },
  {
   "cell_type": "markdown",
   "metadata": {},
   "source": [
    "Spreadsheet: [actblue_freq.csv](data/actblue_freq.csv)"
   ]
  },
  {
   "cell_type": "markdown",
   "metadata": {},
   "source": [
    "### ActBlue addicts: Do certain donors give a lot through ActBlue?\n",
    "Jan. 1, 2017 — now"
   ]
  },
  {
   "cell_type": "code",
   "execution_count": null,
   "metadata": {},
   "outputs": [],
   "source": [
    "actblue_addicts = read_or_save(\n",
    "    'actblue_addicts',\n",
    "    lambda: pd.read_sql(\"\"\"\n",
    "    SELECT contributor_first_name,\n",
    "           contributor_last_name,\n",
    "           array_agg(DISTINCT contributor_occupation),\n",
    "           array_agg(DISTINCT contributor_employer),\n",
    "           array_agg(DISTINCT contributor_street_1),\n",
    "           array_agg(DISTINCT contributor_city),\n",
    "           contributor_state,\n",
    "           left(contributor_zip_code,5) AS contributor_zip_code,\n",
    "           count(*) AS COUNT,\n",
    "           sum(contribution_amount) AS total,\n",
    "           sum(contribution_amount)/count(*) AS avg_per\n",
    "    FROM actblue_contribs\n",
    "    WHERE extract(YEAR\n",
    "                  FROM contribution_date) > 2016\n",
    "    GROUP BY contributor_first_name,\n",
    "             contributor_last_name,\n",
    "             contributor_state,\n",
    "             left(contributor_zip_code,5)\n",
    "    ORDER BY COUNT DESC\n",
    "    LIMIT 100\n",
    "    \"\"\", con=conn)\n",
    ")\n",
    "actblue_addicts"
   ]
  },
  {
   "cell_type": "code",
   "execution_count": null,
   "metadata": {},
   "outputs": [],
   "source": [
    "actblue_addicts.to_csv('data/actblue_addicts.csv')"
   ]
  },
  {
   "cell_type": "markdown",
   "metadata": {},
   "source": [
    "Spreadsheet: [actblue_addicts.csv](data/actblue_addicts.csv)"
   ]
  },
  {
   "cell_type": "markdown",
   "metadata": {},
   "source": [
    "### How did Terry Wolfe give?"
   ]
  },
  {
   "cell_type": "code",
   "execution_count": null,
   "metadata": {},
   "outputs": [],
   "source": [
    "actblue_wolfe = read_or_save(\n",
    "    'actblue_wolfe',\n",
    "    lambda: pd.read_sql(\"\"\"\n",
    "    SELECT *\n",
    "    FROM actblue_contribs\n",
    "    WHERE contributor_first_name = 'TERRY'\n",
    "      AND contributor_last_name = 'WOLFE'\n",
    "      AND contributor_state = 'WV'\n",
    "      AND extract(YEAR\n",
    "                  FROM contribution_date) >= 2017\n",
    "    \"\"\", con=conn)\n",
    ")\n",
    "actblue_wolfe.head(5)"
   ]
  },
  {
   "cell_type": "code",
   "execution_count": null,
   "metadata": {},
   "outputs": [],
   "source": [
    "actblue_wolfe['contribution_amount'].describe()"
   ]
  },
  {
   "cell_type": "markdown",
   "metadata": {},
   "source": [
    "### Sibylle Barlow"
   ]
  },
  {
   "cell_type": "code",
   "execution_count": null,
   "metadata": {},
   "outputs": [],
   "source": [
    "actblue_barlow = read_or_save(\n",
    "    'actblue_barlow',\n",
    "    lambda: pd.read_sql(\"\"\"\n",
    "    SELECT *\n",
    "    FROM actblue_contribs\n",
    "    WHERE contributor_first_name = 'SIBYLLE'\n",
    "      AND contributor_last_name = 'BARLOW'\n",
    "      AND contributor_state = 'MA'\n",
    "      AND extract(YEAR\n",
    "                  FROM contribution_date) >= 2017\n",
    "    \"\"\", con=conn)\n",
    ")\n",
    "actblue_barlow['contribution_amount'].describe()"
   ]
  },
  {
   "cell_type": "markdown",
   "metadata": {},
   "source": [
    "### William Nottingham"
   ]
  },
  {
   "cell_type": "code",
   "execution_count": null,
   "metadata": {},
   "outputs": [],
   "source": [
    "actblue_nottingham = read_or_save(\n",
    "    'actblue_nottingham',\n",
    "    lambda: pd.read_sql(\"\"\"\n",
    "    SELECT *\n",
    "    FROM actblue_contribs\n",
    "    WHERE contributor_first_name = 'WILLIAM'\n",
    "      AND contributor_last_name = 'NOTTINGHAM'\n",
    "      AND contributor_state = 'CA'\n",
    "      AND extract(YEAR\n",
    "                  FROM contribution_date) >= 2017\n",
    "    \"\"\", con=conn)\n",
    ")\n",
    "actblue_nottingham['contribution_amount'].sum()"
   ]
  },
  {
   "cell_type": "markdown",
   "metadata": {},
   "source": [
    "### What's the gender breakdown of ActBlue contribs?"
   ]
  },
  {
   "cell_type": "code",
   "execution_count": null,
   "metadata": {},
   "outputs": [],
   "source": [
    "actblue_first_names = read_or_save(\n",
    "    'actblue_first_names',\n",
    "    lambda: pd.read_sql(\"\"\"\n",
    "    SELECT contributor_first_name,\n",
    "           count(*),\n",
    "           sum(contribution_amount)\n",
    "    FROM actblue_contribs\n",
    "    WHERE extract(YEAR FROM contribution_date) >= 2017\n",
    "    and cand_office in ('H','S')\n",
    "    GROUP BY contributor_first_name\n",
    "    \"\"\", con=conn)\n",
    ")\n",
    "\n",
    "d = gender.Detector(case_sensitive=False)\n",
    "\n",
    "actblue_first_names['gender'] = actblue_first_names['contributor_first_name'].apply(d.get_gender)\n",
    "\n",
    "actblue_first_names.sort_values(by=['count'], ascending=False).head(5)"
   ]
  },
  {
   "cell_type": "code",
   "execution_count": null,
   "metadata": {},
   "outputs": [],
   "source": [
    "actblue_gender = actblue_first_names.groupby(actblue_first_names['gender'])['count','sum'].sum()\n",
    "\n",
    "actblue_gender['percent_by_count'] = actblue_gender['count']/actblue_gender['count'].sum()*100\n",
    "actblue_gender['percent_by_sum'] = actblue_gender['sum']/actblue_gender['sum'].sum()*100\n",
    "\n",
    "actblue_gender"
   ]
  },
  {
   "cell_type": "code",
   "execution_count": null,
   "metadata": {},
   "outputs": [],
   "source": [
    "%%bash\n",
    "jupyter nbconvert analysis.ipynb"
   ]
  }
 ],
 "metadata": {
  "kernelspec": {
   "display_name": "actblue-analysis",
   "language": "python",
   "name": "actblue-analysis"
  },
  "language_info": {
   "codemirror_mode": {
    "name": "ipython",
    "version": 3
   },
   "file_extension": ".py",
   "mimetype": "text/x-python",
   "name": "python",
   "nbconvert_exporter": "python",
   "pygments_lexer": "ipython3",
   "version": "3.6.5"
  }
 },
 "nbformat": 4,
 "nbformat_minor": 2
}
